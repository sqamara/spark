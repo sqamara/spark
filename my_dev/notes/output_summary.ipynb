{
 "cells": [
  {
   "cell_type": "code",
   "execution_count": 1,
   "metadata": {
    "collapsed": true
   },
   "outputs": [],
   "source": [
    "import statistics"
   ]
  },
  {
   "cell_type": "code",
   "execution_count": 2,
   "metadata": {
    "collapsed": true
   },
   "outputs": [],
   "source": [
    "norm_cross_exector_mem = [\n",
    "    2097.0,\n",
    "    1021.0,\n",
    "    492.0,\n",
    "    0.0,\n",
    "    972.0,\n",
    "    1088.0,\n",
    "    1088.0,\n",
    "    0.0,\n",
    "    0.0,\n",
    "    529.0\n",
    "]\n",
    "\n",
    "chosen_executors_cross_exector_mem = [\n",
    "    480.0,\n",
    "    480.0,\n",
    "    480.0,\n",
    "    480.0,\n",
    "    480.0,\n",
    "    480.0,\n",
    "    480.0,\n",
    "    480.0,\n",
    "    480.0,\n",
    "    480.0,\n",
    "]\n",
    "\n",
    "aws_norm_cross_exector_mem = [\n",
    "    596.0,\n",
    "    1568.0,\n",
    "    1501.0,\n",
    "    972.0,\n",
    "    1617.0,\n",
    "    0.0,\n",
    "    1125.0,\n",
    "    480.0,\n",
    "    1009.0,\n",
    "    529.0,\n",
    "    1009.0,\n",
    "    1088.0\n",
    "]\n",
    "\n",
    "aws_chosen_executors_cross_exector_mem = [\n",
    "    480.0,\n",
    "    480.0,\n",
    "    480.0,\n",
    "    480.0,\n",
    "    480.0,\n",
    "    480.0,\n",
    "    480.0,\n",
    "    480.0,\n",
    "    480.0,\n",
    "    480.0,\n",
    "    480.0,\n",
    "    480.0,\n",
    "]"
   ]
  },
  {
   "cell_type": "code",
   "execution_count": 3,
   "metadata": {
    "collapsed": false
   },
   "outputs": [
    {
     "data": {
      "text/plain": [
       "728.7"
      ]
     },
     "execution_count": 3,
     "metadata": {},
     "output_type": "execute_result"
    }
   ],
   "source": [
    "statistics.mean(norm_cross_exector_mem)"
   ]
  },
  {
   "cell_type": "code",
   "execution_count": 4,
   "metadata": {
    "collapsed": false
   },
   "outputs": [
    {
     "data": {
      "text/plain": [
       "480.0"
      ]
     },
     "execution_count": 4,
     "metadata": {},
     "output_type": "execute_result"
    }
   ],
   "source": [
    "statistics.mean(aws_chosen_executors_cross_exector_mem)"
   ]
  },
  {
   "cell_type": "code",
   "execution_count": 5,
   "metadata": {
    "collapsed": false
   },
   "outputs": [
    {
     "data": {
      "text/plain": [
       "957.8333333333334"
      ]
     },
     "execution_count": 5,
     "metadata": {},
     "output_type": "execute_result"
    }
   ],
   "source": [
    "statistics.mean(aws_norm_cross_exector_mem)"
   ]
  },
  {
   "cell_type": "code",
   "execution_count": 6,
   "metadata": {
    "collapsed": false
   },
   "outputs": [
    {
     "data": {
      "text/plain": [
       "480.0"
      ]
     },
     "execution_count": 6,
     "metadata": {},
     "output_type": "execute_result"
    }
   ],
   "source": [
    "statistics.mean(aws_chosen_executors_cross_exector_mem)"
   ]
  },
  {
   "cell_type": "code",
   "execution_count": 7,
   "metadata": {
    "collapsed": true
   },
   "outputs": [],
   "source": [
    "norm_cross_exector_mem_random_values = [\n",
    "    1350.0,\n",
    "    1909.0,\n",
    "    1314.0,\n",
    "    1185.0,\n",
    "    1131.0,\n",
    "    645.0,\n",
    "    1927.0,\n",
    "    0.0,\n",
    "    0.0,\n",
    "    1437.0,\n",
    "]\n",
    "\n",
    "chosen_executors_cross_exector_mem_random_values = [\n",
    "    504.0,\n",
    "    504.0,\n",
    "    504.0,\n",
    "    504.0,\n",
    "    504.0,\n",
    "    504.0,\n",
    "    504.0,\n",
    "    504.0,\n",
    "    504.0,\n",
    "    504.0,\n",
    "]\n",
    "\n",
    "aws_norm_cross_exector_mem_random_values = [\n",
    "    1314.0,\n",
    "    1693.0,\n",
    "    2452.0,\n",
    "    0.0,\n",
    "    0.0,\n",
    "    1369.0,\n",
    "    558.0,\n",
    "    627.0,\n",
    "    0.0,\n",
    "    504.0,\n",
    "]\n",
    "\n",
    "aws_chosen_executors_cross_exector_mem_random_values = [\n",
    "    504.0,\n",
    "    504.0,\n",
    "    504.0,\n",
    "    504.0,\n",
    "    504.0,\n",
    "    504.0,\n",
    "    504.0,\n",
    "    504.0,\n",
    "    504.0,\n",
    "    504.0,\n",
    "]"
   ]
  },
  {
   "cell_type": "code",
   "execution_count": 8,
   "metadata": {
    "collapsed": false
   },
   "outputs": [
    {
     "data": {
      "text/plain": [
       "1089.8"
      ]
     },
     "execution_count": 8,
     "metadata": {},
     "output_type": "execute_result"
    }
   ],
   "source": [
    "statistics.mean(norm_cross_exector_mem_random_values)"
   ]
  },
  {
   "cell_type": "code",
   "execution_count": 9,
   "metadata": {
    "collapsed": false
   },
   "outputs": [
    {
     "data": {
      "text/plain": [
       "504.0"
      ]
     },
     "execution_count": 9,
     "metadata": {},
     "output_type": "execute_result"
    }
   ],
   "source": [
    "statistics.mean(chosen_executors_cross_exector_mem_random_values)"
   ]
  },
  {
   "cell_type": "code",
   "execution_count": 10,
   "metadata": {
    "collapsed": false
   },
   "outputs": [
    {
     "data": {
      "text/plain": [
       "851.7"
      ]
     },
     "execution_count": 10,
     "metadata": {},
     "output_type": "execute_result"
    }
   ],
   "source": [
    "statistics.mean(aws_norm_cross_exector_mem_random_values)"
   ]
  },
  {
   "cell_type": "code",
   "execution_count": 11,
   "metadata": {
    "collapsed": false
   },
   "outputs": [
    {
     "data": {
      "text/plain": [
       "504.0"
      ]
     },
     "execution_count": 11,
     "metadata": {},
     "output_type": "execute_result"
    }
   ],
   "source": [
    "statistics.mean(aws_chosen_executors_cross_exector_mem_random_values)"
   ]
  },
  {
   "cell_type": "code",
   "execution_count": 12,
   "metadata": {
    "collapsed": true
   },
   "outputs": [],
   "source": [
    "norm_filenames = [\"outputs/output_norm_0\", \"outputs/output_norm_1\", \"outputs/output_norm_2\", \"outputs/output_norm_3\", \"outputs/output_norm_4\", \"outputs/output_norm_5\", \"outputs/output_norm_6\", \"outputs/output_norm_7\"]\n",
    "chos_filenames = [\"outputs/output_chos_0\", \"outputs/output_chos_1\", \"outputs/output_chos_2\", \"outputs/output_chos_3\", \"outputs/output_chos_4\", \"outputs/output_chos_5\", \"outputs/output_chos_6\", \"outputs/output_chos_7\"]"
   ]
  },
  {
   "cell_type": "code",
   "execution_count": 13,
   "metadata": {
    "collapsed": false
   },
   "outputs": [
    {
     "data": {
      "text/plain": [
       "[[234.0, 117.0, 117.0, 234.0, 0.0, 351.0, 234.0, 234.0, 117.0, 117.0],\n",
       " [0.0, 1916.0, 1009.0, 879.0, 867.0, 843.0, 1020.0, 388.0, 400.0, 352.0],\n",
       " [1062.0, 1062.0, 618.0, 1419.0, 1963.0, 0.0, 1387.0, 1062.0, 0.0, 504.0],\n",
       " [0.0, 1075.0, 1449.0, 0.0, 0.0, 1203.0, 1428.0, 1408.0, 1720.0, 0.0],\n",
       " [1570.0, 517.0, 1231.0, 558.0, 0.0, 1175.0, 1443.0, 573.0, 0.0, 658.0],\n",
       " [1231.0, 573.0, 1616.0, 1090.0, 1485.0, 517.0, 0.0, 658.0, 1429.0, 0.0],\n",
       " [2048.0, 1452.0, 1231.0, 935.0, 0.0, 1634.0, 0.0, 1090.0, 1508.0, 1593.0],\n",
       " [1766.0, 1634.0, 1249.0, 573.0, 0.0, 1193.0, 1634.0, 1634.0, 1634.0, 1193.0]]"
      ]
     },
     "execution_count": 13,
     "metadata": {},
     "output_type": "execute_result"
    }
   ],
   "source": [
    "norm_run_data = []\n",
    "for file in norm_filenames:\n",
    "    f = open(file, 'r')\n",
    "    norm_run_data.append ( list(map(float, f.read().splitlines())) )\n",
    "    f.close()\n",
    "norm_run_data"
   ]
  },
  {
   "cell_type": "code",
   "execution_count": 14,
   "metadata": {
    "collapsed": false
   },
   "outputs": [
    {
     "data": {
      "text/plain": [
       "[175.5, 767.4, 907.7, 828.3, 772.5, 859.9, 1149.1, 1251.0]"
      ]
     },
     "execution_count": 14,
     "metadata": {},
     "output_type": "execute_result"
    }
   ],
   "source": [
    "avg_norm_data = [statistics.mean(data) for data in norm_run_data]\n",
    "avg_norm_data"
   ]
  },
  {
   "cell_type": "code",
   "execution_count": 15,
   "metadata": {
    "collapsed": false
   },
   "outputs": [
    {
     "data": {
      "text/plain": [
       "[[0.0, 0.0, 0.0, 0.0, 106.0, 0.0, 106.0, 0.0, 0.0, 0.0],\n",
       " [363.0, 999.0, 375.0, 364.0, 258.0, 363.0, 298.0, 271.0, 376.0, 950.0],\n",
       " [504.0, 504.0, 504.0, 504.0, 504.0, 504.0, 504.0, 504.0, 504.0, 504.0],\n",
       " [504.0, 517.0, 517.0, 517.0, 517.0, 517.0, 517.0, 517.0, 517.0, 517.0],\n",
       " [517.0, 517.0, 517.0, 517.0, 517.0, 517.0, 517.0, 517.0, 517.0, 517.0],\n",
       " [517.0, 517.0, 517.0, 517.0, 517.0, 517.0, 517.0, 517.0, 517.0, 517.0],\n",
       " [517.0, 517.0, 517.0, 517.0, 517.0, 517.0, 517.0, 517.0, 517.0, 517.0],\n",
       " [517.0, 517.0, 517.0, 517.0, 517.0, 517.0, 517.0, 517.0, 517.0, 517.0]]"
      ]
     },
     "execution_count": 15,
     "metadata": {},
     "output_type": "execute_result"
    }
   ],
   "source": [
    "chos_run_data = []\n",
    "for file in chos_filenames:\n",
    "    f = open(file, 'r')\n",
    "    chos_run_data.append ( list(map(float, f.read().splitlines())) )\n",
    "    f.close()\n",
    "    \n",
    "for i in range(0,8):\n",
    "    for j in range(0,10):\n",
    "        chos_run_data[i][j] = chos_run_data[i][j]-norm_run_data[i][j]\n",
    "chos_run_data"
   ]
  },
  {
   "cell_type": "code",
   "execution_count": 16,
   "metadata": {
    "collapsed": false,
    "scrolled": true
   },
   "outputs": [
    {
     "data": {
      "text/plain": [
       "[21.2, 461.7, 504.0, 515.7, 517.0, 517.0, 517.0, 517.0]"
      ]
     },
     "execution_count": 16,
     "metadata": {},
     "output_type": "execute_result"
    }
   ],
   "source": [
    "avg_chos_data = [statistics.mean(data) for data in chos_run_data]\n",
    "avg_chos_data"
   ]
  },
  {
   "cell_type": "code",
   "execution_count": 17,
   "metadata": {
    "collapsed": true
   },
   "outputs": [],
   "source": [
    "x_axis = [ 10**j for j in range(0,8)]"
   ]
  },
  {
   "cell_type": "code",
   "execution_count": 18,
   "metadata": {
    "collapsed": false
   },
   "outputs": [
    {
     "data": {
      "text/plain": [
       "<matplotlib.legend.Legend at 0x105acfc18>"
      ]
     },
     "execution_count": 18,
     "metadata": {},
     "output_type": "execute_result"
    },
    {
     "data": {
      "image/png": "[encoded data removed]",
      "text/plain": [
       "<matplotlib.figure.Figure at 0x104df1be0>"
      ]
     },
     "metadata": {},
     "output_type": "display_data"
    }
   ],
   "source": [
    "import matplotlib.pyplot as plt\n",
    "%matplotlib inline\n",
    "\n",
    "plt.plot(x_axis, avg_norm_data, marker='o', label='normal')\n",
    "plt.plot(x_axis, avg_chos_data, marker='o', label=\"chosen\")\n",
    "\n",
    "plt.xscale('log')\n",
    "\n",
    "plt.legend()\n",
    "plt.legend(loc='best')"
   ]
  },
  {
   "cell_type": "code",
   "execution_count": 19,
   "metadata": {
    "collapsed": false
   },
   "outputs": [
    {
     "name": "stdout",
     "output_type": "stream",
     "text": [
      "[[234.0, 117.0, 117.0, 234.0, 351.0, 234.0, 234.0, 117.0, 117.0], [1916.0, 1009.0, 879.0, 867.0, 843.0, 1020.0, 388.0, 400.0, 352.0], [1062.0, 1062.0, 618.0, 1419.0, 1963.0, 1387.0, 1062.0, 504.0], [1075.0, 1449.0, 1203.0, 1428.0, 1408.0, 1720.0], [1570.0, 517.0, 1231.0, 558.0, 1175.0, 1443.0, 573.0, 658.0], [1231.0, 573.0, 1616.0, 1090.0, 1485.0, 517.0, 658.0, 1429.0], [2048.0, 1452.0, 1231.0, 935.0, 1634.0, 1090.0, 1508.0, 1593.0], [1766.0, 1634.0, 1249.0, 573.0, 1193.0, 1634.0, 1634.0, 1634.0, 1193.0]]\n",
      "[[0.0, 0.0, 0.0, 0.0, 0.0, 106.0, 0.0, 0.0, 0.0], [999.0, 375.0, 364.0, 258.0, 363.0, 298.0, 271.0, 376.0, 950.0], [504.0, 504.0, 504.0, 504.0, 504.0, 504.0, 504.0, 504.0], [517.0, 517.0, 517.0, 517.0, 517.0, 517.0], [517.0, 517.0, 517.0, 517.0, 517.0, 517.0, 517.0, 517.0], [517.0, 517.0, 517.0, 517.0, 517.0, 517.0, 517.0, 517.0], [517.0, 517.0, 517.0, 517.0, 517.0, 517.0, 517.0, 517.0], [517.0, 517.0, 517.0, 517.0, 517.0, 517.0, 517.0, 517.0, 517.0]]\n"
     ]
    }
   ],
   "source": [
    "chos_run_data_nonzero = chos_run_data\n",
    "norm_run_data_nonzero = norm_run_data\n",
    "\n",
    "toRemove = []\n",
    "for i in range(0,8):\n",
    "    for j in range(0,10):\n",
    "        if (norm_run_data_nonzero[i][j] == 0):\n",
    "            toRemove.insert(0, (i,j))\n",
    "# removes them in reverse to avoid index errors\n",
    "for pair in toRemove:\n",
    "    del(norm_run_data_nonzero[pair[0]][pair[1]])\n",
    "    del(chos_run_data_nonzero[pair[0]][pair[1]])\n",
    "\n",
    "print (norm_run_data_nonzero)\n",
    "print (chos_run_data_nonzero)\n",
    "\n",
    "avg_norm_run_data_nonzero = [statistics.mean(data) for data in norm_run_data_nonzero]\n",
    "avg_chos_run_data_nonzero = [statistics.mean(data) for data in chos_run_data_nonzero]"
   ]
  },
  {
   "cell_type": "code",
   "execution_count": 20,
   "metadata": {
    "collapsed": false
   },
   "outputs": [
    {
     "data": {
      "text/plain": [
       "<matplotlib.legend.Legend at 0x105bd0240>"
      ]
     },
     "execution_count": 20,
     "metadata": {},
     "output_type": "execute_result"
    },
    {
     "data": {
      "image/png": "[encoded data removed]",
      "text/plain": [
       "<matplotlib.figure.Figure at 0x105abab00>"
      ]
     },
     "metadata": {},
     "output_type": "display_data"
    }
   ],
   "source": [
    "plt.plot(x_axis, avg_norm_run_data_nonzero, marker='o', label='normal')\n",
    "plt.plot(x_axis, avg_chos_run_data_nonzero, marker='o', label=\"chosen\")\n",
    "\n",
    "plt.xscale('log')\n",
    "\n",
    "plt.legend()\n",
    "plt.legend(loc='best')"
   ]
  },
  {
   "cell_type": "code",
   "execution_count": null,
   "metadata": {
    "collapsed": true
   },
   "outputs": [],
   "source": []
  },
  {
   "cell_type": "code",
   "execution_count": null,
   "metadata": {
    "collapsed": true
   },
   "outputs": [],
   "source": []
  },
  {
   "cell_type": "code",
   "execution_count": 22,
   "metadata": {
    "collapsed": true
   },
   "outputs": [],
   "source": [
    "f = open(\"pagerank_out/output_norm\", 'r')\n",
    "pr_norm = list(map(float, f.read().splitlines()))\n",
    "f.close()\n",
    "\n",
    "f = open(\"pagerank_out/output_chos\", 'r')\n",
    "pr_chos = list(map(float, f.read().splitlines()))\n",
    "f.close()\n",
    "pr_chos = [a-b for a,b in zip(pr_chos, pr_norm)]"
   ]
  },
  {
   "cell_type": "code",
   "execution_count": 26,
   "metadata": {
    "collapsed": false
   },
   "outputs": [
    {
     "data": {
      "text/plain": [
       "1643.4"
      ]
     },
     "execution_count": 26,
     "metadata": {},
     "output_type": "execute_result"
    }
   ],
   "source": [
    "statistics.mean(pr_norm)"
   ]
  },
  {
   "cell_type": "code",
   "execution_count": 25,
   "metadata": {
    "collapsed": false
   },
   "outputs": [
    {
     "data": {
      "text/plain": [
       "1158.0"
      ]
     },
     "execution_count": 25,
     "metadata": {},
     "output_type": "execute_result"
    }
   ],
   "source": [
    "statistics.mean(pr_chos)"
   ]
  },
  {
   "cell_type": "code",
   "execution_count": null,
   "metadata": {
    "collapsed": true
   },
   "outputs": [],
   "source": []
  }
 ],
 "metadata": {
  "kernelspec": {
   "display_name": "Python 3",
   "language": "python",
   "name": "python3"
  },
  "language_info": {
   "codemirror_mode": {
    "name": "ipython",
    "version": 3
   },
   "file_extension": ".py",
   "mimetype": "text/x-python",
   "name": "python",
   "nbconvert_exporter": "python",
   "pygments_lexer": "ipython3",
   "version": "3.4.4"
  }
 },
 "nbformat": 4,
 "nbformat_minor": 0
}
